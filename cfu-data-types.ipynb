{
 "cells": [
  {
   "cell_type": "markdown",
   "metadata": {},
   "source": [
    "# CFU | Data Types"
   ]
  },
  {
   "cell_type": "markdown",
   "metadata": {},
   "source": [
    "## Working with Data Types"
   ]
  },
  {
   "cell_type": "markdown",
   "metadata": {},
   "source": [
    "Objective: Practice working with different data types and their corresponding operations."
   ]
  },
  {
   "cell_type": "markdown",
   "metadata": {},
   "source": [
    "### Exercise 1: Calculate remaining salary"
   ]
  },
  {
   "cell_type": "markdown",
   "metadata": {},
   "source": [
    "In this exercise, prompt the user to enter their personal information such as name, age, address, salary, and expenses, and then perform some calculations to determine how much money they have left after expenses. \n",
    "\n",
    "Use data type casting to ensure that the age, salary, and expenses are stored as integers or floats, as appropriate, and round the remaining money to one decimal. \n",
    "\n",
    "Use a boolean variable to indicate whether the remaining salary is greater than or equal to 500. \n",
    "\n",
    "Finally, you will use string formatting to print a message to the screen in the following format: \n",
    "\"*name*, who is *age* years old, and lives in *address* has *remaining_salary* dollars left from her salary after expenses. It is *is_salary_good* that she has more than $500 left.\", using the mentioned variables.\n",
    "\n",
    "*Hint:* \n",
    "- *You can use the input() function to ask the user to enter their information. Beware that input() function returns a String.*\n",
    "- *You can round the remaining salary to one decimal using the round() function.*\n",
    "- *Use data type conversion functions. Recommended external resources: [Data type conversion](https://www.geeksforgeeks.org/type-conversion-in-python/)*"
   ]
  },
  {
   "cell_type": "code",
   "execution_count": 1,
   "metadata": {},
   "outputs": [],
   "source": [
    "# Your code here\n",
    "# Solicita los datos y determina cuanto dinero le queda despues de los gastos\n",
    "nombre = input(\"cual es tu nombre\")\n",
    "edad = input(\"cuantos años tienes\")\n",
    "direccion = input(\"donde vives\")\n",
    "salario = input(\"cual es tu salario\")\n",
    "gastos = input(\"cuantos son tus gastos\")"
   ]
  },
  {
   "cell_type": "code",
   "execution_count": 2,
   "metadata": {},
   "outputs": [
    {
     "name": "stdout",
     "output_type": "stream",
     "text": [
      "650 300 33\n"
     ]
    }
   ],
   "source": [
    "# numeros enteros\n",
    "print(int(salario), int(gastos), int(edad))"
   ]
  },
  {
   "cell_type": "code",
   "execution_count": 3,
   "metadata": {},
   "outputs": [
    {
     "name": "stdout",
     "output_type": "stream",
     "text": [
      "<class 'int'> <class 'int'> <class 'int'>\n"
     ]
    }
   ],
   "source": [
    "int_salario = int(salario)\n",
    "int_gastos = int(gastos)\n",
    "int_edad = int(edad)\n",
    "print(type(int_salario), type(int_gastos), type(int_edad))"
   ]
  },
  {
   "cell_type": "code",
   "execution_count": 4,
   "metadata": {},
   "outputs": [
    {
     "name": "stdout",
     "output_type": "stream",
     "text": [
      "350\n"
     ]
    }
   ],
   "source": [
    "restante = int_salario - int_gastos\n",
    "print(restante)"
   ]
  },
  {
   "cell_type": "code",
   "execution_count": 5,
   "metadata": {},
   "outputs": [
    {
     "name": "stdout",
     "output_type": "stream",
     "text": [
      "350.0\n"
     ]
    }
   ],
   "source": [
    "# Redondee el restante a un float\n",
    "print(float(restante))"
   ]
  },
  {
   "cell_type": "code",
   "execution_count": 6,
   "metadata": {},
   "outputs": [
    {
     "name": "stdout",
     "output_type": "stream",
     "text": [
      "False\n"
     ]
    }
   ],
   "source": [
    "# Utilice boolean para decir si es mayor o igual a 500\n",
    "mi_boolean = restante >= 500\n",
    "print(mi_boolean)"
   ]
  },
  {
   "cell_type": "code",
   "execution_count": 7,
   "metadata": {},
   "outputs": [
    {
     "name": "stdout",
     "output_type": "stream",
     "text": [
      "mi nombre es Esme tengo 33 años vivo en  , my salario mensual es 650 y mis gastos 300\n"
     ]
    }
   ],
   "source": [
    "#imprimir una cadena \n",
    "print(\"mi nombre es\", nombre, \"tengo\", edad, \"años\", \"vivo en\", direccion, \",\", \"my salario mensual es\", salario, \"y mis gastos\", gastos)"
   ]
  },
  {
   "cell_type": "markdown",
   "metadata": {},
   "source": [
    "\n",
    "### Exercise 2: Text Cleaning and Concatenation"
   ]
  },
  {
   "cell_type": "markdown",
   "metadata": {},
   "source": [
    "Write code that takes text from the variable `poem`, removes the punctuation and leaves everything in lowercase. \n",
    "\n",
    "Concatenate the resulting string with the string \"python is awesome!\" and store the result in a new variable. \n",
    "\n",
    "Print the length of the new string.\n",
    "\n",
    "Split the string into a list of strings using the space delimiter, save it in a variable `poem_list` and print it. \n",
    "\n",
    "*Hint:*\n",
    "\n",
    "- *You can use the len() function to get the length of a string.*\n",
    "- *Search string methods to accomplish the other steps. Recommended External Resources: [Python String Methods](https://www.w3schools.com/python/python_ref_string.asp)*\n",
    "- *Use method chaining to simplify your code. If you are not sure what it is, read this tutorial before: https://pyneng.readthedocs.io/en/latest/book/04_data_structures/method_chaining.html*\n"
   ]
  },
  {
   "cell_type": "code",
   "execution_count": 9,
   "metadata": {},
   "outputs": [],
   "source": [
    "poem = \"\"\"Some say the world will end in fire,\n",
    "Some say in ice.\n",
    "From what I’ve tasted of desire\n",
    "I hold with those who favor fire.\n",
    "But if it had to perish twice,\n",
    "I think I know enough of hate\n",
    "To say that for destruction ice\n",
    "Is also great\n",
    "And would suffice.\"\"\""
   ]
  },
  {
   "cell_type": "code",
   "execution_count": 10,
   "metadata": {},
   "outputs": [
    {
     "name": "stdout",
     "output_type": "stream",
     "text": [
      "some say the world will end in fire\n",
      "some say in ice\n",
      "from what i’ve tasted of desire\n",
      "i hold with those who favor fire\n",
      "but if it had to perish twice\n",
      "i think i know enough of hate\n",
      "to say that for destruction ice\n",
      "is also great\n",
      "and would suffice\n"
     ]
    }
   ],
   "source": [
    "# Escriba un codigo, elimine mayuscula y signos de puntuacion\n",
    "import string\n",
    "nuevo_poema = poem.translate(str.maketrans(\"\", \"\", string.punctuation)).lower()\n",
    "print(nuevo_poema)\n",
    "\n",
    "\n",
    "#Utilicé import string para acceder a la constante string.punctuation, que contiene todos los caracteres de puntuación en inglés \n",
    "#(por ejemplo, !, ?, ,, ., etc.). Esta constante es útil porque me permite eliminar fácilmente todos los signos de puntuación del texto\n",
    "#utilizando el método translate()\n",
    "\n",
    "#Se puede usar string solo, sin embargo tendria que poner todos los signos manualmente\n",
    "\n",
    "#stri.maketrans se utiliza para crear una asignacion de uno a uno los caracteres que quiero remplazar o eliminar en una cadena."
   ]
  },
  {
   "cell_type": "code",
   "execution_count": 11,
   "metadata": {},
   "outputs": [
    {
     "name": "stdout",
     "output_type": "stream",
     "text": [
      "some say the world will end in fire\n",
      "some say in ice\n",
      "from what i’ve tasted of desire\n",
      "i hold with those who favor fire\n",
      "but if it had to perish twice\n",
      "i think i know enough of hate\n",
      "to say that for destruction ice\n",
      "is also great\n",
      "and would suffice\n",
      "¡python es increible!\n"
     ]
    }
   ],
   "source": [
    "python = \"\\n¡python es increible!\"\n",
    "print(nuevo_poema + python)"
   ]
  },
  {
   "cell_type": "code",
   "execution_count": 12,
   "metadata": {},
   "outputs": [
    {
     "name": "stdout",
     "output_type": "stream",
     "text": [
      "262\n"
     ]
    }
   ],
   "source": [
    "nueva_cadena = (nuevo_poema + python)\n",
    "print(len(nueva_cadena))"
   ]
  },
  {
   "cell_type": "code",
   "execution_count": 13,
   "metadata": {},
   "outputs": [
    {
     "name": "stdout",
     "output_type": "stream",
     "text": [
      "['some', 'say', 'the', 'world', 'will', 'end', 'in', 'fire', 'some', 'say', 'in', 'ice', 'from', 'what', 'i’ve', 'tasted', 'of', 'desire', 'i', 'hold', 'with', 'those', 'who', 'favor', 'fire', 'but', 'if', 'it', 'had', 'to', 'perish', 'twice', 'i', 'think', 'i', 'know', 'enough', 'of', 'hate', 'to', 'say', 'that', 'for', 'destruction', 'ice', 'is', 'also', 'great', 'and', 'would', 'suffice', '¡python', 'es', 'increible!']\n"
     ]
    }
   ],
   "source": [
    "poema_lista = nueva_cadena.split()\n",
    "print(poema_lista)"
   ]
  },
  {
   "cell_type": "code",
   "execution_count": null,
   "metadata": {},
   "outputs": [],
   "source": [
    "# que ha pasado"
   ]
  }
 ],
 "metadata": {
  "kernelspec": {
   "display_name": "Python 3 (ipykernel)",
   "language": "python",
   "name": "python3"
  },
  "language_info": {
   "codemirror_mode": {
    "name": "ipython",
    "version": 3
   },
   "file_extension": ".py",
   "mimetype": "text/x-python",
   "name": "python",
   "nbconvert_exporter": "python",
   "pygments_lexer": "ipython3",
   "version": "3.12.4"
  }
 },
 "nbformat": 4,
 "nbformat_minor": 4
}
